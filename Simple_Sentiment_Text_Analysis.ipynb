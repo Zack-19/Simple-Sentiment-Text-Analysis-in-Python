{
  "nbformat": 4,
  "nbformat_minor": 0,
  "metadata": {
    "colab": {
      "provenance": []
    },
    "kernelspec": {
      "name": "python3",
      "display_name": "Python 3"
    },
    "language_info": {
      "name": "python"
    }
  },
  "cells": [
    {
      "cell_type": "code",
      "execution_count": 6,
      "metadata": {
        "colab": {
          "base_uri": "https://localhost:8080/"
        },
        "id": "QSZUAIuX72A0",
        "outputId": "34f732f8-79cb-4d1b-dd84-2bd805450dab"
      },
      "outputs": [
        {
          "output_type": "stream",
          "name": "stderr",
          "text": [
            "[nltk_data] Downloading package punkt to /root/nltk_data...\n",
            "[nltk_data]   Unzipping tokenizers/punkt.zip.\n"
          ]
        }
      ],
      "source": [
        "#nltk-textblob-newspaper3k\n",
        "#!pip install newspaper3k\n",
        "#!pip install nltk\n",
        "import nltk\n",
        "nltk.download('punkt')\n",
        "from textblob import TextBlob\n",
        "from newspaper import Article"
      ]
    },
    {
      "cell_type": "code",
      "source": [
        "#url = 'https://en.wikipedia.org/wiki/Mathematics'\n",
        "url ='https://www.optica-opn.org/home/articles/volume_34/july_august_2023/features/james_webb_space_telescope_a_sparkling_optical_suc/#:~:text=Superlatives%20strain%20to%20characterize%20the,confounding%20images%20of%20the%20universe.&text=Call%20this%20observatory%20the%20scientific%20gift%20that%20unwrapped%20itself.'\n",
        "#url ='https://world-nuclear.org/information-library/safety-and-security/safety-of-plants/fukushima-daiichi-accident.aspx'\n",
        "article = Article(url)\n",
        "article.download()\n",
        "article.parse()\n",
        "article.nlp()\n",
        "#text = article.text\n",
        "text = article.summary\n",
        "print(text)"
      ],
      "metadata": {
        "colab": {
          "base_uri": "https://localhost:8080/"
        },
        "id": "B4JeYE0oC5AC",
        "outputId": "d34d4774-a795-4e66-effe-0c60864849d0"
      },
      "execution_count": 16,
      "outputs": [
        {
          "output_type": "stream",
          "name": "stdout",
          "text": [
            "Fukushima Daiichi Accident(Updated August 2023)Following a major earthquake, a 15-metre tsunami disabled the power supply and cooling of three Fukushima Daiichi reactors, causing a nuclear accident beginning on 11 March 2011.\n",
            "The 2020 Report states: \"No adverse health effects among Fukushima residents have been documented that are directly attributable to radiation exposure from the Fukushima Daiichi nuclear plant accident.\n",
            "The NDF also works with Tepco Fukushima Daiichi D&D Engineering Co., which has responsibility for operating the actual decommissioning work there.\n",
            "Inquiries and reports: the accident itself and decommissioningIn October 2014 the NRA published its Analysis of the TEPCO Fukushima Daiichi NPS Accident interim report.\n",
            "In November 2011 the US Institute of Nuclear Power Operations (INPO) released its Special Report on the Nuclear Accident at the Fukushima Daiichi Nuclear Power Station, with timeline.\n"
          ]
        }
      ]
    },
    {
      "cell_type": "code",
      "source": [
        "blob = TextBlob(text)\n",
        "sentiment = blob.sentiment.polarity\n",
        "print(sentiment)"
      ],
      "metadata": {
        "colab": {
          "base_uri": "https://localhost:8080/"
        },
        "id": "cYuavbAdEguS",
        "outputId": "d2c4fcc3-8e02-4848-dc38-34a4fd712c06"
      },
      "execution_count": 17,
      "outputs": [
        {
          "output_type": "stream",
          "name": "stdout",
          "text": [
            "0.06392857142857142\n"
          ]
        }
      ]
    },
    {
      "cell_type": "code",
      "source": [
        "#to read local text\n",
        "with open('text_test.txt','r') as f :\n",
        "  text = f.read()\n",
        "blob = TextBlob(text)\n",
        "sentiment = blob.sentiment.polarity\n",
        "print(sentiment)"
      ],
      "metadata": {
        "colab": {
          "base_uri": "https://localhost:8080/"
        },
        "id": "nfsmAubFGoYG",
        "outputId": "844afc4e-5756-408e-e802-55dd9ccc5eb0"
      },
      "execution_count": 21,
      "outputs": [
        {
          "output_type": "stream",
          "name": "stdout",
          "text": [
            "0.6054545454545455\n"
          ]
        }
      ]
    }
  ]
}